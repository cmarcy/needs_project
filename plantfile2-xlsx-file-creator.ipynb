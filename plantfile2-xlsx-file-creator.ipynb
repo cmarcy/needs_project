{
 "cells": [
  {
   "cell_type": "markdown",
   "metadata": {},
   "source": [
    "# Initial setup"
   ]
  },
  {
   "cell_type": "code",
   "execution_count": 23,
   "metadata": {},
   "outputs": [
    {
     "name": "stdout",
     "output_type": "stream",
     "text": [
      "C:\\Users\\CMARCY\\OneDrive - Environmental Protection Agency (EPA)\\Desktop\\py_projects\\plantfile\\NEEDS_project\n",
      "C:\\Users\\CMARCY\\OneDrive - Environmental Protection Agency (EPA)\\Desktop\\py_projects\\plantfile\n"
     ]
    }
   ],
   "source": [
    "#importing packages needed for analysis\n",
    "import os\n",
    "import numpy as np\n",
    "import pandas as pd\n",
    "import math\n",
    "from pandas import DataFrame\n",
    "from itertools import product\n",
    "\n",
    "path = os.getcwd()\n",
    "parent = os.path.dirname(path)\n",
    "print(path)\n",
    "print(parent)\n",
    "#os.mkdir(path+'\\outputs')\n"
   ]
  },
  {
   "cell_type": "markdown",
   "metadata": {},
   "source": [
    "# Reading in NEEDS"
   ]
  },
  {
   "cell_type": "code",
   "execution_count": 24,
   "metadata": {},
   "outputs": [
    {
     "name": "stdout",
     "output_type": "stream",
     "text": [
      "Index(['Plant_Name', 'UniqueID', 'ORIS_Plant_Code',\n",
      "       'Boiler/Generator/Committed_Unit', 'Unit_ID', 'CAMD_Database_UnitID',\n",
      "       'PlantType', 'Combustion_Turbine/IC_Engine', 'Region_Name',\n",
      "       'State_Name', 'State_Code', 'County', 'County_Code', 'FIPS5', 'cap',\n",
      "       'Fully.Loaded.Tested.Heat.Rate.Btu.kWh...Modeled',\n",
      "       'Commercial.Online.Year', 'RetireYear', 'Firing', 'Bottom', 'Cogen?',\n",
      "       'Modeled_Fuels', 'Wet/DryScrubber', 'Scrubber_Online_Year',\n",
      "       'Scrubber_Efficiency', 'NOx_Comb_Control', 'NOx_Post-Comb_Control',\n",
      "       'SCR_Online_Year', 'SNCR_Online_Year', 'PM_Control',\n",
      "       'FlueGasConditioning_Flag', 'Mercury_Controls', 'ACI_Online_Year',\n",
      "       'Mercury_Controls_Efficiency', 'SO2_Permit_Rate_(lbs/mmBtu)',\n",
      "       'Mode_1_NOx_Rate_(lbs/mmBtu)', 'Mode_2_NOx_Rate_(lbs/mmBtu)',\n",
      "       'Mode_3_NOx_Rate_(lbs/mmBtu)', 'Mode_4_NOx_Rate_(lbs/mmBtu)',\n",
      "       'Hg_EMF_for_BIT', 'Hg_EMF_for_SUB', 'Hg_EMF_for_LIG', 'HCL_Removal',\n",
      "       'DSI_Unit', 'DSI_Online_Year', 'CCS', 'CCS_Removal', 'C2G',\n",
      "       'C2G_Online_Year', 'BART_Affected_Unit', 'resource_region', 'pca',\n",
      "       'Online_Yr_OG', 'Retire_Yr_OG', 'tech', 'Scrub_Match',\n",
      "       'RetireYearGiven', 'Retire_Age', 'NukeRetireBin', 'Nuke80RetireYear',\n",
      "       'Nuke60RetireYear', 'NukeEarlyRetireYear', 'NukeRefRetireYear',\n",
      "       'IsExistUnit', 'ct', 'ctt', 'wst', 'coolingwatertech',\n",
      "       'Plant.NAICS.Description', 'Commercial.Online.Year.Quarter', 'ID'],\n",
      "      dtype='object')\n"
     ]
    }
   ],
   "source": [
    "#Reading in needs data\n",
    "needs = pd.read_csv('outputs/needs_final.csv', low_memory=False)\n",
    "needs['ID'] = needs['ORIS_Plant_Code'].astype(str) + '_' + needs['Unit_ID'].astype(str)\n",
    "needs = needs.drop(columns='Unnamed: 0')\n",
    "#print(needs.columns)\n",
    "#needs = needs.drop(columns=['BART_Affected_Unit','Boiler/Generator/Committed_Unit', 'Bottom', 'C2G', 'C2G_Online_Year',\n",
    "#        'CAMD_Database_UnitID','CCS','CCS_Removal','cap','Cogen?','Combustion_Turbine/IC_Engine','County','County_Code',\n",
    "#        'DSI_Unit','FIPS5','Firing','FlueGasConditioning_Flag','HCL_Removal','Hg_EMF_for_BIT','Hg_EMF_for_LIG','Hg_EMF_for_SUB',\n",
    "#        'Mercury_Controls','Mercury_Controls_Efficiency','Mode_1_NOx_Rate_(lbs/mmBtu)','Mode_2_NOx_Rate_(lbs/mmBtu)', \n",
    "#        'Mode_3_NOx_Rate_(lbs/mmBtu)','Mode_4_NOx_Rate_(lbs/mmBtu)','Modeled_Fuels','NOx_Comb_Control','NOx_Post-Comb_Control', \n",
    "#        'Commercial.Online.Year.Quarter','PM_Control','Plant_Name','Region_Name','SO2_Permit_Rate_(lbs/mmBtu)','Scrub_Match', \n",
    "#        'Scrubber_Efficiency','State_Code','State_Name','UniqueID','pca','resource_region','Retire_Age', 'NukeRetireBin','ctt', \n",
    "#        'Nuke80RetireYear','Nuke60RetireYear','NukeEarlyRetireYear','NukeRefRetireYear','IsExistUnit','coolingwatertech','ct',\n",
    "#        'wst','Plant.NAICS.Description','RetireYearGiven','Retire_Yr_OG','RetireYear','Online_Yr_OG','ORIS_Plant_Code','Unit_ID'])\n",
    "print(needs.columns)\n",
    "#print(needs.dtypes)\n",
    "#print(needs.head())\n"
   ]
  },
  {
   "cell_type": "code",
   "execution_count": 25,
   "metadata": {},
   "outputs": [
    {
     "name": "stdout",
     "output_type": "stream",
     "text": [
      "      Plant_Name   UniqueID  ORIS_Plant_Code Boiler/Generator/Committed_Unit  \\\n",
      "0  Greene County     10_B_1               10                               B   \n",
      "1  Greene County     10_B_2               10                               B   \n",
      "2  Greene County  10_G_GT10               10                               G   \n",
      "3  Greene County   10_G_GT2               10                               G   \n",
      "4  Greene County   10_G_GT3               10                               G   \n",
      "\n",
      "  Unit_ID  CAMD_Database_UnitID           PlantType  \\\n",
      "0       1                  19.0           O/G Steam   \n",
      "1       2                  20.0           O/G Steam   \n",
      "2    GT10                  21.0  Combustion Turbine   \n",
      "3     GT2                  22.0  Combustion Turbine   \n",
      "4     GT3                  23.0  Combustion Turbine   \n",
      "\n",
      "  Combustion_Turbine/IC_Engine Region_Name State_Name  ...   ctt   wst  \\\n",
      "0                          NaN       S_SOU    Alabama  ...  none  none   \n",
      "1                          NaN       S_SOU    Alabama  ...  none  none   \n",
      "2                          NaN       S_SOU    Alabama  ...  none  none   \n",
      "3                          NaN       S_SOU    Alabama  ...  none  none   \n",
      "4                          NaN       S_SOU    Alabama  ...  none  none   \n",
      "\n",
      "   coolingwatertech  Plant.NAICS.Description  Commercial.Online.Year.Quarter  \\\n",
      "0              none                Utilities                          1965-1   \n",
      "1              none                Utilities                          1966-1   \n",
      "2              none                Utilities                          1996-1   \n",
      "3              none                Utilities                          1996-1   \n",
      "4              none                Utilities                          1995-1   \n",
      "\n",
      "        ID  SO2_Control  NOx_Control Hg_Control            Age_of_Unit  \n",
      "0     10_1          NaN          NaN        NaN  Greater than 50 Years  \n",
      "1     10_2          NaN          NaN        NaN  Greater than 50 Years  \n",
      "2  10_GT10          NaN          NaN        NaN          0 to 40 Years  \n",
      "3   10_GT2          NaN          NaN        NaN          0 to 40 Years  \n",
      "4   10_GT3          NaN          NaN        NaN          0 to 40 Years  \n",
      "\n",
      "[5 rows x 75 columns]\n"
     ]
    }
   ],
   "source": [
    "unique_scrub = pd.Series(needs['Wet/DryScrubber'].unique())\n",
    "#print(unique_scrub)\n",
    "is_wet = (needs['Wet/DryScrubber'] == 'Wet Scrubber') \n",
    "is_dry = (needs['Wet/DryScrubber'] == 'Dry Scrubber') \n",
    "#is_ri = (needs['Wet/DryScrubber'] == 'Reagent Injection') \n",
    "is_dsi = pd.notnull(needs['DSI_Online_Year'])\n",
    "is_scr = pd.notnull(needs['SCR_Online_Year'])\n",
    "is_sncr = pd.notnull(needs['SNCR_Online_Year'])\n",
    "is_aci = pd.notnull(needs['ACI_Online_Year'])\n",
    "\n",
    "needs.loc[is_wet,'SO2_Control'] = 'Wet FGD'\n",
    "needs.loc[is_dry,'SO2_Control'] = 'Dry FGD'\n",
    "needs.loc[is_dsi,'SO2_Control'] = 'DSI'\n",
    "needs.loc[is_scr,'NOx_Control'] = 'SCR'\n",
    "needs.loc[is_sncr,'NOx_Control'] = 'SNCR'\n",
    "needs.loc[is_aci,'Hg_Control'] = 'ACI'\n",
    "\n",
    "#needs.loc[is_wet,'WetScrub_Online_Year'] = needs['Scrubber_Online_Year']\n",
    "#needs.loc[is_dry,'DryScrub_Online_Year'] = needs['Scrubber_Online_Year']\n",
    "#needs.loc[is_ri,'RIScrub_Online_Year'] = needs['Scrubber_Online_Year']\n",
    "#print(needs.columns)\n",
    "\n",
    "#needs['Age'] = 2020 - needs['Commercial.Online.Year']\n",
    "needs.loc[(2020 - needs['Commercial.Online.Year']< 40),'Age_of_Unit'] = '0 to 40 Years' \n",
    "needs.loc[(2020 - needs['Commercial.Online.Year']>= 40),'Age_of_Unit'] = '40 to 50 Years' \n",
    "needs.loc[(2020 - needs['Commercial.Online.Year']>= 50),'Age_of_Unit'] = 'Greater than 50 Years' \n",
    "\n",
    "print(needs.head())"
   ]
  },
  {
   "cell_type": "markdown",
   "metadata": {},
   "source": [
    "# FOM and VOM data"
   ]
  },
  {
   "cell_type": "code",
   "execution_count": 26,
   "metadata": {},
   "outputs": [
    {
     "name": "stdout",
     "output_type": "stream",
     "text": [
      "                              PlantType  FOM_nc  VOM_nc\n",
      "0                               Biomass  134.52    7.29\n",
      "1                             Fuel Cell    0.00   44.91\n",
      "2                            Geothermal   93.51    5.49\n",
      "3                                 Hydro   14.89    2.66\n",
      "4                                  IGCC  102.34    3.16\n",
      "5  Landfill Gas / Municipal Solid Waste  234.69    6.54\n",
      "6                        Pumped Storage   17.27   10.17\n",
      "7                              Solar PV   27.99    0.00\n",
      "8                         Solar Thermal   77.93    0.00\n",
      "9                                  Wind   28.18    0.00\n",
      "0                          Onshore Wind   28.18    0.00\n",
      "1                         Offshore Wind   28.18    0.00\n",
      "2                 Municipal Solid Waste  234.69    6.54\n",
      "3                          Landfill Gas  234.69    6.54\n",
      "4                        Energy Storage   29.94    0.00\n"
     ]
    }
   ],
   "source": [
    "fom = pd.read_csv('inputs/IPM_FOM.csv',encoding='latin1').replace('--', np.NaN)\n",
    "fom.columns = fom.columns.str.replace(r'\\s+', '_')\n",
    "fom = fom.rename(columns={'Plant_Type':'PlantType','FOM_(2016$_/kW-Yr)':'FOM_2016'})\n",
    "\n",
    "#print(fom.columns)\n",
    "\n",
    "vom = pd.read_csv('inputs/IPM_VOM.csv',encoding='latin1').replace('--', np.NaN)\n",
    "vom.columns = vom.columns.str.replace(r'\\s+', '_')\n",
    "vom = vom.rename(columns={'Capacity_Type':'PlantType','vom_updated':'VOM_2016'}).drop(columns='Variable_O&M_(2016$/mills/kWh)')\n",
    "#print(vom.columns)\n",
    "\n",
    "fom_nan = fom.isna().any(axis=1)\n",
    "vom_nan = vom.isna().any(axis=1)\n",
    "#print('fom total:',len(fom),', noctrl:',len(fom[fom_nan]),', ctrl:',len(fom[~fom_nan]))\n",
    "#print('vom total:',len(vom),', noctrl:',len(vom[vom_nan]),', ctrl:',len(vom[~vom_nan]))\n",
    "#print()\n",
    "\n",
    "fom_noctrl = fom[fom_nan].drop(columns=['SO2_Control', 'NOx_Control', 'Hg_Control','Age_of_Unit_'])\n",
    "vom_noctrl = vom[vom_nan].drop(columns=['SO2_Control', 'NOx_Control', 'Hg_Control'])\n",
    "#print(fom_noctrl.columns)\n",
    "#print(vom_noctrl.columns)\n",
    "\n",
    "tech_lookup = pd.read_csv('inputs/tech_lookup.csv')\n",
    "tech_added = pd.DataFrame([['Landfill Gas / Municipal Solid Waste', 'lfill-gas']], columns=('NEEDS_tech','ReEDS_tech'))\n",
    "tech_lookup = tech_lookup.append(tech_added).rename(columns={'NEEDS_tech':'PlantType'})\n",
    "#print(tech_lookup)\n",
    "#print()\n",
    "\n",
    "noctrl = pd.merge(fom_noctrl,vom_noctrl,on=['PlantType'],how='outer')\n",
    "noctrl = pd.merge(noctrl,tech_lookup,on=['PlantType'],how='left').rename(columns={'FOM_2016':'FOM_nc','VOM_2016':'VOM_nc'})\n",
    "\n",
    "Wind_row = noctrl[noctrl['PlantType'] == 'Wind']\n",
    "Wind_FOM = Wind_row['FOM_nc'].item()\n",
    "Wind_VOM = Wind_row['VOM_nc'].item()\n",
    "\n",
    "MSW_row = noctrl[noctrl['PlantType'] == 'Landfill Gas / Municipal Solid Waste']\n",
    "MSW_FOM = MSW_row['FOM_nc'].item()\n",
    "MSW_VOM = MSW_row['VOM_nc'].item()\n",
    "\n",
    "noctrl_added = pd.DataFrame([['Onshore Wind',Wind_FOM,Wind_VOM,'wind-ofs'],\n",
    "                            ['Offshore Wind',Wind_FOM,Wind_VOM,'wind-ons'], \n",
    "                            ['Municipal Solid Waste',MSW_FOM,MSW_VOM,'lfill-gas'], \n",
    "                            ['Landfill Gas',MSW_FOM,MSW_VOM,'lfill-gas'], \n",
    "                            ['Energy Storage',29.94,0,'battery']],\n",
    "                            columns=('PlantType','FOM_nc','VOM_nc','ReEDS_tech'))\n",
    "noctrl = noctrl.append(noctrl_added).drop(columns=['ReEDS_tech'])\n",
    "print(noctrl)\n"
   ]
  },
  {
   "cell_type": "code",
   "execution_count": 27,
   "metadata": {
    "scrolled": true
   },
   "outputs": [
    {
     "name": "stdout",
     "output_type": "stream",
     "text": [
      "    PlantType SO2_Control NOx_Control Hg_Control            Age_of_Unit  \\\n",
      "0  Coal Steam         NaN         NaN        NaN          0 to 40 Years   \n",
      "1  Coal Steam         NaN         NaN        NaN         40 to 50 Years   \n",
      "2  Coal Steam         NaN         NaN        NaN  Greater than 50 Years   \n",
      "3  Coal Steam         NaN         NaN        ACI          0 to 40 Years   \n",
      "4  Coal Steam         NaN         NaN        ACI         40 to 50 Years   \n",
      "\n",
      "   FOM_2016  VOM_2016  \n",
      "0     28.34      1.43  \n",
      "1     32.40      1.43  \n",
      "2     41.63      1.43  \n",
      "3     28.42      2.90  \n",
      "4     32.49      2.90  \n"
     ]
    }
   ],
   "source": [
    "fom_ctrl = fom[~fom_nan].rename(columns={'Age_of_Unit_':'Age_of_Unit'})\n",
    "vom_ctrl = vom[~vom_nan]\n",
    "ctrl = pd.merge(fom_ctrl,vom_ctrl,on=['PlantType', 'SO2_Control', 'NOx_Control', 'Hg_Control'],how='outer')\n",
    "ctrl = ctrl.replace({'No SO2 Control':np.NaN,'No NOx Control':np.NaN,'No Hg Control':np.NaN,'-':np.NaN})\n",
    "#print(ctrl)\n",
    "#print(len(ctrl))\n",
    "\n",
    "unique_SO2 = pd.Series(ctrl['SO2_Control'].unique()).dropna()\n",
    "unique_NOx = pd.Series(ctrl['NOx_Control'].unique()).dropna()\n",
    "unique_Hg = pd.Series(ctrl['Hg_Control'].unique()).dropna()\n",
    "unique_Age = pd.Series(ctrl['Age_of_Unit'].unique()).dropna()\n",
    "#print(unique_SO2)\n",
    "#print(unique_NOx)\n",
    "#print(unique_Hg)\n",
    "#print(unique_Age)\n",
    "\n",
    "print(ctrl.head())\n"
   ]
  },
  {
   "cell_type": "code",
   "execution_count": 28,
   "metadata": {},
   "outputs": [
    {
     "name": "stdout",
     "output_type": "stream",
     "text": [
      "     FOM_nuke  VOM_nuke      ID\n",
      "1  175.565726  0.143367  6149_1\n",
      "2  175.565726  0.143367  6040_1\n",
      "3  175.565726  0.143367  1060_1\n",
      "4  175.565726  0.143367  2497_2\n",
      "5  175.565726  0.143367  8907_3\n"
     ]
    }
   ],
   "source": [
    "nuke = pd.read_csv('inputs/table_4-49_nuclear.csv')\n",
    "nuke.columns = nuke.columns.str.replace(r'\\s+', '_')\n",
    "#print(nuke.columns)\n",
    "nuke = nuke.rename(columns={'FOM_(2016$_/kW-yr)':'FOM_nuke','VOM_(2016_mills/kWh)':'VOM_nuke'})\n",
    "#print(nuke.dtypes)\n",
    "nuke['ID'] = nuke['ORIS_Code'].astype(str) + '_' + nuke['Unit_Id'].astype(str)\n",
    "\n",
    "nuke = nuke.drop(columns=['ORIS_Code','Unit_Id','State', 'Plant_Name', 'On-Line_Year','Capacity_(MW)', 'Heat_Rate_(Btu/kWh)'])\n",
    "#print(len(nuke))\n",
    "\n",
    "avg_fom = nuke['FOM_nuke'].mean()\n",
    "avg_vom = nuke['VOM_nuke'].mean()\n",
    "#print(avg_fom)\n",
    "#print(avg_vom)\n",
    "\n",
    "nuke_added = pd.DataFrame([[avg_fom,avg_vom,'6020_1'],[avg_fom,avg_vom,'6149_1'],[avg_fom,avg_vom,'6040_1'],\n",
    "                           [avg_fom,avg_vom,'1060_1'],[avg_fom,avg_vom,'2497_2'],[avg_fom,avg_vom,'8907_3']],\n",
    "                          columns=('FOM_nuke','VOM_nuke','ID'))\n",
    "nuke = nuke.append(nuke_added)\n",
    "print(nuke.tail())\n",
    "#print(len(nuke))\n"
   ]
  },
  {
   "cell_type": "markdown",
   "metadata": {},
   "source": [
    "# Merging DF"
   ]
  },
  {
   "cell_type": "code",
   "execution_count": 29,
   "metadata": {},
   "outputs": [
    {
     "name": "stdout",
     "output_type": "stream",
     "text": [
      "number of rows missing O&M data: 0\n",
      "\n",
      "      Plant_Name   UniqueID  ORIS_Plant_Code Boiler/Generator/Committed_Unit  \\\n",
      "0  Greene County     10_B_1               10                               B   \n",
      "1  Greene County     10_B_2               10                               B   \n",
      "2  Greene County  10_G_GT10               10                               G   \n",
      "3  Greene County   10_G_GT2               10                               G   \n",
      "4  Greene County   10_G_GT3               10                               G   \n",
      "\n",
      "  Unit_ID  CAMD_Database_UnitID           PlantType  \\\n",
      "0       1                  19.0           O/G Steam   \n",
      "1       2                  20.0           O/G Steam   \n",
      "2    GT10                  21.0  Combustion Turbine   \n",
      "3     GT2                  22.0  Combustion Turbine   \n",
      "4     GT3                  23.0  Combustion Turbine   \n",
      "\n",
      "  Combustion_Turbine/IC_Engine Region_Name State_Name  ...  WSNCR_F WSCR_V  \\\n",
      "0                          NaN       S_SOU    Alabama  ...        0      0   \n",
      "1                          NaN       S_SOU    Alabama  ...        0      0   \n",
      "2                          NaN       S_SOU    Alabama  ...        0      0   \n",
      "3                          NaN       S_SOU    Alabama  ...        0      0   \n",
      "4                          NaN       S_SOU    Alabama  ...        0      0   \n",
      "\n",
      "   WSCR_F  W_DSIV  W_DSIF  W_FFV  W_FFF  W_CAPAD    W_FOM   W_VOM  \n",
      "0       0       0       0      0      0        0  34.2708  0.8488  \n",
      "1       0       0       0      0      0        0  34.2708  0.8488  \n",
      "2       0       0       0      0      0        0  19.1246  9.7208  \n",
      "3       0       0       0      0      0        0  19.1246  9.7208  \n",
      "4       0       0       0      0      0        0  19.1246  9.7208  \n",
      "\n",
      "[5 rows x 90 columns]\n"
     ]
    }
   ],
   "source": [
    "needs.loc[needs['PlantType'] == 'Combustion Turbine','Age_of_Unit'] = np.nan\n",
    "needs.loc[needs['PlantType'] == 'Combined Cycle','Age_of_Unit'] = np.nan\n",
    "needs.loc[needs['PlantType'] == 'O/G Steam','SO2_Control'] = np.nan\n",
    "needs.loc[needs['PlantType'] == 'O/G Steam','Hg_Control'] = np.nan\n",
    "\n",
    "needs_om = pd.merge(needs,noctrl,on=['PlantType'],how='left')\n",
    "needs_om = pd.merge(needs_om,ctrl,on=['PlantType','SO2_Control', 'NOx_Control', 'Hg_Control', 'Age_of_Unit'],how='left')\n",
    "needs_om = pd.merge(needs_om,nuke,on=['ID'],how='left')\n",
    "#print(needs_om.columns)\n",
    "#print()\n",
    "\n",
    "om_cols = ['FOM_nc','VOM_nc','FOM_2016','VOM_2016','FOM_nuke','VOM_nuke']\n",
    "needs_om['check'] = needs_om[om_cols].apply(lambda x:x.count(),axis=1)\n",
    "om_err = needs_om['check'] != 2\n",
    "#print(needs_om[om_err])\n",
    "print('number of rows missing O&M data:',len(needs_om[om_err]))\n",
    "print()\n",
    "\n",
    "needs_om[om_cols]=needs_om[om_cols].fillna(0)\n",
    "needs_om['FOM_2016'] = needs_om['FOM_2016'] + needs_om['FOM_nc'] + needs_om['FOM_nuke'] \n",
    "needs_om['VOM_2016'] = needs_om['VOM_2016'] + needs_om['VOM_nc'] + needs_om['VOM_nuke'] \n",
    "needs_om = needs_om.drop(columns=['FOM_nc','VOM_nc','FOM_nuke','VOM_nuke','check'])\n",
    "\n",
    "needs_om[['WCOMB_V','WCOMB_F','WSNCR_V','WSNCR_F','WSCR_V','WSCR_F',\n",
    "          'W_DSIV','W_DSIF','W_FFV','W_FFF','W_CAPAD']] = pd.DataFrame([[0,0,0,0,0,0,0,0,0,0,0]], index=needs_om.index)\n",
    "#print(needs_om.head(2))\n",
    "\n",
    "inflate = pd.read_csv('inputs/inflation_default.csv')\n",
    "row_87 = inflate[inflate['t'] == 1987]\n",
    "inf_87 = row_87['inflation_rate'].item()\n",
    "row_16 = inflate[inflate['t'] == 2016]\n",
    "inf_16 = row_16['inflation_rate'].item()\n",
    "#print(inf_87)\n",
    "\n",
    "needs_om['W_FOM'] = needs_om['FOM_2016'] * inf_87 / inf_16\n",
    "needs_om['W_VOM'] = needs_om['VOM_2016'] * inf_87 / inf_16\n",
    "\n",
    "#these techs don't have heat rates\n",
    "no_hr = ['wind-ons','csp-ns','battery','hydro','DUPV','pumped-hydro','UPV','wind-ofs']\n",
    "needs_om.loc[(needs_om['tech'].isin(no_hr)),'Fully.Loaded.Tested.Heat.Rate.Btu.kWh...Modeled'] = np.nan \n",
    "needs_om = needs_om.round(4)\n",
    "\n",
    "needs_om.to_csv(\"outputs\\\\needs_final2.csv\",index = False)\n",
    "print(needs_om.head())\n"
   ]
  },
  {
   "cell_type": "code",
   "execution_count": null,
   "metadata": {},
   "outputs": [],
   "source": []
  }
 ],
 "metadata": {
  "kernelspec": {
   "display_name": "Python 3",
   "language": "python",
   "name": "python3"
  },
  "language_info": {
   "codemirror_mode": {
    "name": "ipython",
    "version": 3
   },
   "file_extension": ".py",
   "mimetype": "text/x-python",
   "name": "python",
   "nbconvert_exporter": "python",
   "pygments_lexer": "ipython3",
   "version": "3.8.5"
  }
 },
 "nbformat": 4,
 "nbformat_minor": 2
}
