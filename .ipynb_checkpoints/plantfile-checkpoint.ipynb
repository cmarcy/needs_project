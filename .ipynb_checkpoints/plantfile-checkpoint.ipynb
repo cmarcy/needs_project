{
 "cells": [
  {
   "cell_type": "markdown",
   "metadata": {},
   "source": [
    "# Initial setup"
   ]
  },
  {
   "cell_type": "code",
   "execution_count": 11,
   "metadata": {},
   "outputs": [
    {
     "name": "stdout",
     "output_type": "stream",
     "text": [
      "C:\\Users\\cmarcy\\Desktop\\py_projects\\plantfile\\NEEDS_project\n",
      "C:\\Users\\cmarcy\\Desktop\\py_projects\\plantfile\n"
     ]
    }
   ],
   "source": [
    "#importing packages needed for analysis\n",
    "import os\n",
    "import numpy as np\n",
    "import pandas as pd\n",
    "import math\n",
    "from pandas import DataFrame\n",
    "\n",
    "path = os.getcwd()\n",
    "parent = os.path.dirname(path)\n",
    "print(path)\n",
    "print(parent)\n",
    "#os.mkdir(path+'\\outputs')"
   ]
  },
  {
   "cell_type": "markdown",
   "metadata": {},
   "source": [
    "# Reading in NEEDS"
   ]
  },
  {
   "cell_type": "code",
   "execution_count": 12,
   "metadata": {},
   "outputs": [
    {
     "name": "stdout",
     "output_type": "stream",
     "text": [
      "all columns match: True\n",
      "\n",
      "rows in active = 18191\n",
      "rows in retire = 829\n",
      "rows in new = 978\n",
      "rows total = 19998\n"
     ]
    }
   ],
   "source": [
    "#Reading in needs data\n",
    "needs_active = pd.read_csv('inputs/needs_v6_06-30-2020 - NEEDS v6_active.csv')\n",
    "needs_retire = pd.read_csv('inputs/needs_v6_06-30-2020 - NEEDS v6_Retired_Through2021.csv')\n",
    "needs_new = pd.read_csv('inputs/needs_v6_06-30-2020 - NEEDS v6_New_Capacity_Hardwired.csv')\n",
    "\n",
    "#Checking to see if all of the needs columns are aligned to help facilitate the append\n",
    "na = list(needs_active.columns)\n",
    "nr = list(needs_retire.columns)\n",
    "nn = list(needs_new.columns)\n",
    "check = na==nr==nn\n",
    "print('all columns match:',check)\n",
    "#print(na)\n",
    "print()\n",
    "\n",
    "#counting the number of rows\n",
    "print('rows in active =',needs_active.shape[0])\n",
    "print('rows in retire =',needs_retire.shape[0])\n",
    "print('rows in new =',needs_new.shape[0])\n",
    "rows_total = needs_active.shape[0]+needs_retire.shape[0]+needs_new.shape[0]\n",
    "print('rows total =',rows_total)"
   ]
  },
  {
   "cell_type": "code",
   "execution_count": 13,
   "metadata": {},
   "outputs": [
    {
     "name": "stdout",
     "output_type": "stream",
     "text": [
      "rows in needs = 19998\n",
      "rows in needs = total rows: True\n",
      "\n",
      "Index(['Plant_Name', 'UniqueID_Final', 'ORIS_Plant_Code',\n",
      "       'Boiler/Generator/Committed_Unit', 'Unit_ID', 'CAMD_Database_UnitID',\n",
      "       'PlantType', 'Combustion_Turbine/IC_Engine', 'Region_Name',\n",
      "       'State_Name', 'State_Code', 'County', 'County_Code', 'FIPS5',\n",
      "       'Capacity_(MW)', 'Heat_Rate_(Btu/kWh)', 'On_Line_Year',\n",
      "       'Retirement_Year', 'Firing', 'Bottom', 'Cogen?', 'Modeled_Fuels',\n",
      "       'Wet/DryScrubber', 'Scrubber_Online_Year', 'Scrubber_Efficiency',\n",
      "       'County_lower'],\n",
      "      dtype='object')\n"
     ]
    }
   ],
   "source": [
    "#appending the needs datasheets into a single dataaframe\n",
    "needs = pd.concat([needs_active,needs_retire,needs_new], ignore_index=True)\n",
    "print('rows in needs =',needs.shape[0])\n",
    "print('rows in needs = total rows:',needs.shape[0]==rows_total)\n",
    "print()\n",
    "\n",
    "#getting rid of spaces in the column name\n",
    "needs.columns = needs.columns.str.replace(r'\\s+', '_')\n",
    "\n",
    "#creating a temporary column to facilitate a merge\n",
    "needs['County_lower'] = needs['County'].str.lower()\n",
    "needs['County_lower'] = needs['County_lower'].str.replace(' ','')\n",
    "\n",
    "#print(needs.columns)\n",
    "\n",
    "needs = needs.drop(columns=\n",
    "                   [#'Plant_Name', 'UniqueID_Final', 'ORIS_Plant_Code',\n",
    "                   #'Boiler/Generator/Committed_Unit', 'Unit_ID', 'CAMD_Database_UnitID',\n",
    "                   #'PlantType', 'Combustion_Turbine/IC_Engine', 'Region_Name',\n",
    "                   #'State_Name', 'State_Code', 'County', 'County_Code', 'FIPS5',\n",
    "                   #'Capacity_(MW)', 'Heat_Rate_(Btu/kWh)', 'On_Line_Year',\n",
    "                   #'Retirement_Year', 'Firing', 'Bottom', 'Cogen?', 'Modeled_Fuels',\n",
    "                   #'Wet/DryScrubber', 'Scrubber_Online_Year', 'Scrubber_Efficiency',\n",
    "                   'NOx_Comb_Control', 'NOx_Post-Comb_Control', 'SCR_Online_Year',\n",
    "                   'SNCR_Online_Year', 'PM_Control', 'FlueGasConditioning_Flag',\n",
    "                   'Mercury_Controls', 'ACI_Online_Year', 'Mercury_Controls_Efficiency',\n",
    "                   'SO2_Permit_Rate_(lbs/mmBtu)', 'Mode_1_NOx_Rate_(lbs/mmBtu)',\n",
    "                   'Mode_2_NOx_Rate_(lbs/mmBtu)', 'Mode_3_NOx_Rate_(lbs/mmBtu)',\n",
    "                   'Mode_4_NOx_Rate_(lbs/mmBtu)', 'Hg_EMF_for_BIT', 'Hg_EMF_for_SUB',\n",
    "                   'Hg_EMF_for_LIG', 'HCL_Removal', 'DSI_Unit', 'DSI_Online_Year', 'CCS',\n",
    "                   'CCS_Removal', 'C2G', 'C2G_Online_Year', 'BART_Affected_Unit', \n",
    "                   #'County_lower'\n",
    "                   ])\n",
    "\n",
    "print(needs.columns)\n"
   ]
  },
  {
   "cell_type": "markdown",
   "metadata": {},
   "source": [
    "# Matching NEEDS data to ReEDS lookups"
   ]
  },
  {
   "cell_type": "code",
   "execution_count": 14,
   "metadata": {},
   "outputs": [
    {
     "name": "stdout",
     "output_type": "stream",
     "text": [
      "      Plant_Name UniqueID_Final  ORIS_Plant_Code  \\\n",
      "0  Greene County         10_B_1               10   \n",
      "1  Greene County         10_B_2               10   \n",
      "\n",
      "  Boiler/Generator/Committed_Unit Unit_ID  CAMD_Database_UnitID  PlantType  \\\n",
      "0                               B       1                  19.0  O/G Steam   \n",
      "1                               B       2                  20.0  O/G Steam   \n",
      "\n",
      "  Combustion_Turbine/IC_Engine Region_Name State_Name  ...  Retirement_Year  \\\n",
      "0                          NaN       S_SOU    Alabama  ...           9999.0   \n",
      "1                          NaN       S_SOU    Alabama  ...           9999.0   \n",
      "\n",
      "  Firing  Bottom  Cogen?  Modeled_Fuels  Wet/DryScrubber  \\\n",
      "0   cell     dry       N    Natural Gas              NaN   \n",
      "1   wall     dry       N    Natural Gas              NaN   \n",
      "\n",
      "   Scrubber_Online_Year  Scrubber_Efficiency resource_region  pca  \n",
      "0                   NaN                  NaN             265  p89  \n",
      "1                   NaN                  NaN             265  p89  \n",
      "\n",
      "[2 rows x 27 columns]\n"
     ]
    }
   ],
   "source": [
    "#this table matches ReEDS regions to counties\n",
    "pca_lookup = pd.read_csv('inputs/pca_lookup.csv')\n",
    "\n",
    "#modifying the pca lookup table to be compatible with needs\n",
    "pca_lookup = pca_lookup.rename(columns={'State':'State_Name'})\n",
    "pca_lookup['County_lower'] = pca_lookup['County'].str.replace('St. ','St ') \\\n",
    "    .str.replace(' ','').str.lower()\n",
    "pca_lookup = pca_lookup.drop(columns=['County'])\n",
    "#print(pca_lookup.head())\n",
    "\n",
    "#merging needs and the pca lookup table\n",
    "needs_pca = pd.merge(needs,pca_lookup,on=['County_lower','State_Name'],how='left')\n",
    "#this column was only created to facilitate the merge and is no longer needed\n",
    "needs_pca = needs_pca.drop(columns=['County_lower']) \n",
    "print(needs_pca.head(2))"
   ]
  },
  {
   "cell_type": "code",
   "execution_count": 15,
   "metadata": {},
   "outputs": [
    {
     "name": "stdout",
     "output_type": "stream",
     "text": [
      "Number of rows with mismatched counties: 0\n",
      "Number of mismatched counties: 0\n",
      "\n",
      "Empty DataFrame\n",
      "Columns: [index]\n",
      "Index: []\n"
     ]
    }
   ],
   "source": [
    "#Note: This code is used to identify mismatched county data, this DF should be empty\n",
    "pca_na = needs_pca[needs_pca['pca'].isnull()]\n",
    "pca_na_id = pca_na[['County','State_Name']]\n",
    "print('Number of rows with mismatched counties:',pca_na_id.shape[0])\n",
    "pca_na_id = pca_na_id.groupby(['County','State_Name']).first().reset_index()\n",
    "print('Number of mismatched counties:',pca_na_id.shape[0])\n",
    "print()\n",
    "print(pca_na_id)"
   ]
  },
  {
   "cell_type": "code",
   "execution_count": 16,
   "metadata": {},
   "outputs": [
    {
     "name": "stdout",
     "output_type": "stream",
     "text": [
      "               NEEDS_tech    ReEDS_tech\n",
      "0               O/G Steam         o-g-s\n",
      "1      Combustion Turbine        gas-CT\n",
      "2                   Hydro         hydro\n",
      "3        Non-Fossil Waste         other\n",
      "4              Coal Steam          coal\n",
      "5   Municipal Solid Waste     lfill-gas\n",
      "6              Geothermal    geothermal\n",
      "7          Combined Cycle        gas-CC\n",
      "8                    IGCC     coal-IGCC\n",
      "9                 Biomass      biopower\n",
      "10           Fossil Waste         other\n",
      "11           Onshore Wind      wind-ons\n",
      "12           Landfill Gas     lfill-gas\n",
      "13         Pumped Storage  pumped-hydro\n",
      "14               Solar PV           UPV\n",
      "15          Solar Thermal        csp-ns\n",
      "16                  Tires         other\n",
      "17         Energy Storage       battery\n",
      "18                Nuclear       nuclear\n",
      "19              Fuel Cell         o-g-s\n",
      "20          Offshore Wind      wind-ofs\n"
     ]
    }
   ],
   "source": [
    "unique_pt = pd.Series(needs_pca['PlantType'].unique())\n",
    "#print(unique_pt)\n",
    "#unique_pt.to_csv(\"inputs\\\\unique_pt.csv\")\n",
    "\n",
    "tech_lookup = pd.read_csv('inputs/tech_lookup.csv')\n",
    "print(tech_lookup)"
   ]
  },
  {
   "cell_type": "code",
   "execution_count": 17,
   "metadata": {},
   "outputs": [
    {
     "name": "stdout",
     "output_type": "stream",
     "text": [
      "      Plant_Name UniqueID_Final  ORIS_Plant_Code  \\\n",
      "0  Greene County         10_B_1               10   \n",
      "1  Greene County         10_B_2               10   \n",
      "\n",
      "  Boiler/Generator/Committed_Unit Unit_ID  CAMD_Database_UnitID  PlantType  \\\n",
      "0                               B       1                  19.0  O/G Steam   \n",
      "1                               B       2                  20.0  O/G Steam   \n",
      "\n",
      "  Combustion_Turbine/IC_Engine Region_Name State_Name  ...  Firing Bottom  \\\n",
      "0                          NaN       S_SOU    Alabama  ...    cell    dry   \n",
      "1                          NaN       S_SOU    Alabama  ...    wall    dry   \n",
      "\n",
      "   Cogen?  Modeled_Fuels  Wet/DryScrubber  Scrubber_Online_Year  \\\n",
      "0       N    Natural Gas              NaN                   NaN   \n",
      "1       N    Natural Gas              NaN                   NaN   \n",
      "\n",
      "   Scrubber_Efficiency  resource_region  pca   tech  \n",
      "0                  NaN              265  p89  o-g-s  \n",
      "1                  NaN              265  p89  o-g-s  \n",
      "\n",
      "[2 rows x 28 columns]\n",
      "Number of rows with mismatched tech: 0\n"
     ]
    }
   ],
   "source": [
    "tech_lookup.columns = ['PlantType', 'tech'] \n",
    "needs_tech = pd.merge(needs_pca,tech_lookup,on=['PlantType'],how='left')\n",
    "print(needs_tech.head(2))\n",
    "\n",
    "#Note: This code is used to identify mismatched tech data, this DF should be empty\n",
    "tech_na = needs_tech[needs_tech['tech'].isnull()]\n",
    "print('Number of rows with mismatched tech:',tech_na.shape[0])"
   ]
  },
  {
   "cell_type": "code",
   "execution_count": 18,
   "metadata": {},
   "outputs": [
    {
     "name": "stdout",
     "output_type": "stream",
     "text": [
      "                       Plant_Name UniqueID_Final  ORIS_Plant_Code  \\\n",
      "21                         Cayuga       1001_B_1             1001   \n",
      "22                         Cayuga       1001_B_2             1001   \n",
      "59    Logan Generating Company LP    10043_B_B01            10043   \n",
      "95  Taconite Harbor Energy Center      10075_B_1            10075   \n",
      "96  Taconite Harbor Energy Center      10075_B_2            10075   \n",
      "97                    R Gallagher       1008_B_2             1008   \n",
      "\n",
      "   Boiler/Generator/Committed_Unit Unit_ID  CAMD_Database_UnitID   PlantType  \\\n",
      "21                               B       1                 706.0  Coal Steam   \n",
      "22                               B       2                 707.0  Coal Steam   \n",
      "59                               B     B01                3524.0  Coal Steam   \n",
      "95                               B       1                9003.0  Coal Steam   \n",
      "96                               B       2                9004.0  Coal Steam   \n",
      "97                               B       2                 717.0  Coal Steam   \n",
      "\n",
      "   Combustion_Turbine/IC_Engine Region_Name  State_Name  ...      Firing  \\\n",
      "21                          NaN    MIS_INKY     Indiana  ...  tangential   \n",
      "22                          NaN    MIS_INKY     Indiana  ...  tangential   \n",
      "59                          NaN    PJM_EMAC  New Jersey  ...        wall   \n",
      "95                          NaN    MIS_MNWI   Minnesota  ...  tangential   \n",
      "96                          NaN    MIS_MNWI   Minnesota  ...  tangential   \n",
      "97                          NaN    MIS_INKY     Indiana  ...        wall   \n",
      "\n",
      "   Bottom  Cogen?  Modeled_Fuels  Wet/DryScrubber  Scrubber_Online_Year  \\\n",
      "21    dry       N     Bituminous     Wet Scrubber                2008.0   \n",
      "22    dry       N     Bituminous     Wet Scrubber                2008.0   \n",
      "59    dry       Y     Bituminous     Dry Scrubber                1994.0   \n",
      "95    dry       N  Subbituminous     Dry Scrubber                2008.0   \n",
      "96    dry       N  Subbituminous     Dry Scrubber                2007.0   \n",
      "97    dry       N     Bituminous              NaN                   NaN   \n",
      "\n",
      "    Scrubber_Efficiency  resource_region   pca        tech  \n",
      "21                 0.97              221  p105  CoalOldScr  \n",
      "22                 0.97              221  p105  CoalOldScr  \n",
      "59                 0.93              331  p126  CoalOldScr  \n",
      "95                 0.65              125   p43  CoalOldScr  \n",
      "96                 0.65              125   p43  CoalOldScr  \n",
      "97                 0.60              224  p107  CoalOldUns  \n",
      "\n",
      "[6 rows x 28 columns]\n"
     ]
    }
   ],
   "source": [
    "#setting the scrubbed and unscrubbed coal ReEDS technology\n",
    "\n",
    "#print(needs_tech.head())\n",
    "Coalbool = needs_tech['tech'] == 'coal'\n",
    "#print(needs_tech[Coalbool])\n",
    "\n",
    "needs_tech2 = needs_tech.copy()\n",
    "needs_tech2['tech'] = np.where((needs_tech2['tech'] == 'coal') \n",
    "                              & (needs_tech2['Wet/DryScrubber'].isnull() == False),\n",
    "                             'CoalOldScr',needs_tech2['tech'])\n",
    "\n",
    "needs_tech2['tech'] = np.where((needs_tech2['tech'] == 'coal') \n",
    "                              & (needs_tech2['Wet/DryScrubber'].isnull() == True),\n",
    "                             'CoalOldUns',needs_tech2['tech'])\n",
    "print(needs_tech2[Coalbool].head(6))"
   ]
  },
  {
   "cell_type": "code",
   "execution_count": 19,
   "metadata": {},
   "outputs": [
    {
     "name": "stdout",
     "output_type": "stream",
     "text": [
      "Index(['Plant_Name', 'UniqueID_Final', 'ORIS_Plant_Code',\n",
      "       'Boiler/Generator/Committed_Unit', 'Unit_ID', 'CAMD_Database_UnitID',\n",
      "       'PlantType', 'Combustion_Turbine/IC_Engine', 'Region_Name',\n",
      "       'State_Name', 'State_Code', 'County', 'County_Code', 'FIPS5', 'cap',\n",
      "       'Heat_Rate_(Btu/kWh)', 'Commercial.Online.Year.Quarter', 'RetireYear',\n",
      "       'Firing', 'Bottom', 'Cogen?', 'Modeled_Fuels', 'Wet/DryScrubber',\n",
      "       'Scrubber_Online_Year', 'Scrubber_Efficiency', 'resource_region', 'pca',\n",
      "       'tech', 'ctt', 'wst', 'coolingwatertech', 'IsExistUnit',\n",
      "       'Nuke60RetireYear', 'Nuke80RetireYear', 'NukeEarlyRetireYear',\n",
      "       'NukeRefRetireYear'],\n",
      "      dtype='object')\n"
     ]
    }
   ],
   "source": [
    "needs_final = needs_tech2\n",
    "needs_final['ctt'] = 'dum'\n",
    "needs_final['wst'] = 'dum'\n",
    "needs_final['coolingwatertech'] = 'dum'\n",
    "#needs_final['Retirement_Year'].replace('', 9999, inplace=True)\n",
    "needs_final['Retirement_Year'].fillna(9999, inplace = True)\n",
    "needs_final['IsExistUnit'] = np.where(needs_final['Retirement_Year'] <2011,'FALSE','TRUE')\n",
    "needs_final['Nuke60RetireYear'] = np.where(needs_final['tech'] == 'nuclear', \\\n",
    "                                       needs_final['On_Line_Year']+60,needs_final['Retirement_Year'])\n",
    "needs_final['Nuke80RetireYear'] = np.where(needs_final['tech'] == 'nuclear', \\\n",
    "                                       needs_final['On_Line_Year']+80,needs_final['Retirement_Year'])\n",
    "needs_final['NukeEarlyRetireYear'] = needs_final['Nuke60RetireYear'] \n",
    "needs_final['NukeRefRetireYear'] = needs_final['Retirement_Year']\n",
    "needs_final = needs_final.rename(columns={'On_Line_Year':'Commercial.Online.Year.Quarter',\n",
    "                                          'Capacity_(MW)':'cap',\n",
    "                                          'Retirement_Year':'RetireYear'})\n",
    "print(needs_final.columns)\n",
    "needs_final.to_csv('outputs\\\\needs_final.csv')"
   ]
  },
  {
   "cell_type": "code",
   "execution_count": null,
   "metadata": {},
   "outputs": [],
   "source": []
  },
  {
   "cell_type": "markdown",
   "metadata": {},
   "source": [
    "# Reviewing EIA-NEMS csv"
   ]
  },
  {
   "cell_type": "code",
   "execution_count": 22,
   "metadata": {},
   "outputs": [
    {
     "name": "stdout",
     "output_type": "stream",
     "text": [
      "number of columns = 117\n",
      "Index(['tech', 'pca', 'ct', 'resource_region', 'cap', 'Nuke60RetireYear',\n",
      "       'Nuke80RetireYear', 'NukeEarlyRetireYear', 'NukeRefRetireYear',\n",
      "       'RetireYear', 'Commercial.Online.Year.Quarter', 'IsExistUnit',\n",
      "       'Fully.Loaded.Tested.Heat.Rate.Btu.kWh...Modeled',\n",
      "       'Plant.NAICS.Description', 'UniqueID', 'WSTATE',\n",
      "       'Commercial.Online.Year', 'T_PNM', 'NukeRetireBin', 'EFDcd',\n",
      "       'UniqueID.1', 'W_IGRP', 'W_GRP', 'W_GRP2', 'T_CID', 'T_PID'],\n",
      "      dtype='object') Index([' T_UID', 'WVIN', 'ECPcd', 'WFOWN', 'W_MRUN', 'WEFPT', 'WNOPER',\n",
      "       'WNOWN', 'W_CLRG', 'W_CR', 'W_GR', 'WCOUNT', 'WC_NP', 'WC_WIN',\n",
      "       'CCSROV', 'CCSF', 'CCSV', 'CCSHR', ' TRFURB', 'W_SMO', 'W_RMO',\n",
      "       'W_NRET', 'CCSCAPA', 'CCSLOC', 'W_COOL', 'WSCBEF', 'WSCBYR', 'WSCBCST'],\n",
      "      dtype='object') Index(['WHR_IMP', 'RetireYearGiven'], dtype='object')\n",
      "\n",
      "     tech pca    ct  resource_region   cap  Nuke60RetireYear  \\\n",
      "0  gas-CT  p2  none                1  10.5              2016   \n",
      "1  gas-CT  p2  none                1  10.5              2016   \n",
      "\n",
      "   Nuke80RetireYear  NukeEarlyRetireYear  NukeRefRetireYear  RetireYear  \\\n",
      "0              2016                 2016               2016        2016   \n",
      "1              2016                 2016               2016        2016   \n",
      "\n",
      "  Commercial.Online.Year.Quarter  IsExistUnit  \\\n",
      "0                         2002-1         True   \n",
      "1                         2002-1         True   \n",
      "\n",
      "   Fully.Loaded.Tested.Heat.Rate.Btu.kWh...Modeled Plant.NAICS.Description  \\\n",
      "0                                          16499.0               Utilities   \n",
      "1                                          16499.0               Utilities   \n",
      "\n",
      "   UniqueID  Commercial.Online.Year  NukeRetireBin EFDcd  UniqueID.1  \\\n",
      "0     15719                    2002            NaN   CTG       15719   \n",
      "1     15720                    2002            NaN   CTG       15720   \n",
      "\n",
      "   RetireYearGiven  \n",
      "0             True  \n",
      "1             True  \n",
      "\n",
      "tech\n",
      "CoalOldScr      113022.600\n",
      "CoalOldUns      199085.106\n",
      "DUPV              3715.246\n",
      "UPV              33269.754\n",
      "battery            859.500\n",
      "biopower          4098.301\n",
      "coal-IGCC         1038.000\n",
      "coal-new        157636.003\n",
      "csp-ns            1807.700\n",
      "gas-CC          273545.719\n",
      "gas-CT          137147.801\n",
      "geothermal        2769.900\n",
      "hydro            78481.803\n",
      "lfill-gas         4100.350\n",
      "nuclear         104547.604\n",
      "o-g-s           141957.714\n",
      "pumped-hydro     22858.403\n",
      "wind-ofs            59.300\n",
      "wind-ons        111687.400\n",
      "Name: cap, dtype: float64\n"
     ]
    }
   ],
   "source": [
    "nems = pd.read_csv('background/ReEDS_generator_database_final_EIA-NEMS.csv', low_memory=False)\n",
    "n=nems.shape[1]\n",
    "print('number of columns =',n)\n",
    "print(nems.columns[0:26],nems.columns[26:54],nems.columns[115:])\n",
    "print()\n",
    "\n",
    "pf = nems[['tech', 'pca', 'ct', 'resource_region', 'cap', 'Nuke60RetireYear',\n",
    "       'Nuke80RetireYear', 'NukeEarlyRetireYear', 'NukeRefRetireYear',\n",
    "       'RetireYear', 'Commercial.Online.Year.Quarter', 'IsExistUnit',\n",
    "       'Fully.Loaded.Tested.Heat.Rate.Btu.kWh...Modeled',\n",
    "       'Plant.NAICS.Description', 'UniqueID', \n",
    "       'Commercial.Online.Year', 'NukeRetireBin', 'EFDcd',\n",
    "       'UniqueID.1', 'RetireYearGiven']]\n",
    "print(pf.head(2))\n",
    "print()\n",
    "\n",
    "#group_test = pf.groupby([pf.columns[0],pf.columns[1]])[pf.columns[4]].sum()\n",
    "group_test = pf.groupby(['tech'])['cap'].sum()\n",
    "print(group_test)\n",
    "#print()\n",
    "group_test = pf.groupby(['tech','IsExistUnit'])['cap'].sum()\n",
    "#print(group_test)"
   ]
  },
  {
   "cell_type": "code",
   "execution_count": 23,
   "metadata": {},
   "outputs": [
    {
     "name": "stdout",
     "output_type": "stream",
     "text": [
      "19998\n",
      "23039\n",
      "33174\n"
     ]
    }
   ],
   "source": [
    "needs['needs']=1\n",
    "nems['nems']=1\n",
    "#print(needs.head())\n",
    "needs = needs.rename(columns={'ORIS_Plant_Code':'PID','Unit_ID':'UID'})\n",
    "#needs = needs[['PID','UID','PlantType','Capacity_(MW)','needs']]\n",
    "#print(needs.columns)\n",
    "print(needs.shape[0])\n",
    "\n",
    "nems = nems.rename(columns={'T_PID':'PID',' T_UID':'UID','tech':'tech_nems'})\n",
    "#nems = nems[['PID','UID','tech_nems','cap','nems']]\n",
    "#print(nems.columns)\n",
    "print(nems.shape[0])\n",
    "\n",
    "combo = pd.merge(needs,nems,on=['PID','UID'],how='outer')\n",
    "print(combo.shape[0])\n",
    "combo.to_csv('outputs\\\\combo.csv')"
   ]
  },
  {
   "cell_type": "code",
   "execution_count": null,
   "metadata": {},
   "outputs": [],
   "source": []
  }
 ],
 "metadata": {
  "kernelspec": {
   "display_name": "Python 3",
   "language": "python",
   "name": "python3"
  },
  "language_info": {
   "codemirror_mode": {
    "name": "ipython",
    "version": 3
   },
   "file_extension": ".py",
   "mimetype": "text/x-python",
   "name": "python",
   "nbconvert_exporter": "python",
   "pygments_lexer": "ipython3",
   "version": "3.7.3"
  }
 },
 "nbformat": 4,
 "nbformat_minor": 2
}
