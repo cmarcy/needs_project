{
 "cells": [
  {
   "cell_type": "code",
   "execution_count": 3,
   "metadata": {},
   "outputs": [],
   "source": [
    "\n",
    "# =============================================================================\n",
    "# Finalizing units file\n",
    "# =============================================================================\n",
    "\n",
    "#nems.loc[:,'Commercial.Online.Year.Quarter'] = nems.loc[:,'Commercial.Online.Year'].astype(str) + '-1'\n",
    "\n",
    "#leading_cols = [\"tech\",\"pca\",\"resource_region\",\"cap\",\"Nuke60RetireYear\",\"Nuke80RetireYear\",\"NukeEarlyRetireYear\",\"NukeRefRetireYear\",\"RetireYear\",\"Commercial.Online.Year.Quarter\",\"IsExistUnit\",\"Fully.Loaded.Tested.Heat.Rate.Btu.kWh...Modeled\",\"Plant.NAICS.Description\"]\n",
    "\n",
    "#other_cols = [col for col in list(nems) if col not in leading_cols]\n",
    "\n",
    "#col_order = leading_cols + other_cols\n",
    "\n",
    "#nems = nems[col_order]\n",
    "\n",
    "#nems.loc[nems['tech'].isin(no_hr),'Fully.Loaded.Tested.Heat.Rate.Btu.kWh...Modeled'] = np.nan\n",
    "\n",
    "#nems.rename(columns = {\"VAR_OM\":\"W_VOM\", \"FIX_OM\":\"W_FOM\", \"CAPADD\":\"W_CAPAD\", \"COMBf\":\"WCOMB_F\", \"COMBv\":\"WCOMB_V\", \"SNCRf\":\"WSNCR_F\", \"SNCRv\":\"WSNCR_V\", \"SCRf\":\"WSCR_F\", \"SCRv\":\"WSCR_V\", \"DSIF\":\"W_DSIF\", \"DSIV\":\"W_DSIV\", \"FFF\":\"W_FFF\", \"FFV\":\"W_FFV\"}, inplace='True')\n",
    "\n",
    "#nems.to_csv('ReEDS_generator_database_final_EIA-NEMS.csv',index=False)\n",
    "\n"
   ]
  },
  {
   "cell_type": "code",
   "execution_count": null,
   "metadata": {},
   "outputs": [],
   "source": []
  }
 ],
 "metadata": {
  "kernelspec": {
   "display_name": "Python 3",
   "language": "python",
   "name": "python3"
  },
  "language_info": {
   "codemirror_mode": {
    "name": "ipython",
    "version": 3
   },
   "file_extension": ".py",
   "mimetype": "text/x-python",
   "name": "python",
   "nbconvert_exporter": "python",
   "pygments_lexer": "ipython3",
   "version": "3.7.3"
  }
 },
 "nbformat": 4,
 "nbformat_minor": 2
}
